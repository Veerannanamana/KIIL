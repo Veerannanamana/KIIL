{
  "nbformat": 4,
  "nbformat_minor": 0,
  "metadata": {
    "colab": {
      "provenance": [],
      "authorship_tag": "ABX9TyNYXCB6MPLk2WHXNmHUBGdz",
      "include_colab_link": true
    },
    "kernelspec": {
      "name": "python3",
      "display_name": "Python 3"
    },
    "language_info": {
      "name": "python"
    }
  },
  "cells": [
    {
      "cell_type": "markdown",
      "metadata": {
        "id": "view-in-github",
        "colab_type": "text"
      },
      "source": [
        "<a href=\"https://colab.research.google.com/github/Veerannanamana/KIIL/blob/main/python.ipynb\" target=\"_parent\"><img src=\"https://colab.research.google.com/assets/colab-badge.svg\" alt=\"Open In Colab\"/></a>"
      ]
    },
    {
      "cell_type": "code",
      "execution_count": 1,
      "metadata": {
        "colab": {
          "base_uri": "https://localhost:8080/"
        },
        "id": "KTr_PDUJnYBz",
        "outputId": "533c34f8-666c-4cfd-ea2b-44bafa378873"
      },
      "outputs": [
        {
          "output_type": "stream",
          "name": "stdout",
          "text": [
            "7\n",
            "odd\n"
          ]
        }
      ],
      "source": [
        "n=int(input())\n",
        "if (n%2==0):\n",
        "  print(\"even\")\n",
        "else:\n",
        "  print(\"odd\")"
      ]
    },
    {
      "cell_type": "code",
      "source": [
        "n=int(input())\n",
        "sum=0\n",
        "while n>0:\n",
        "  digit=n%10\n",
        "  sum=sum+digit\n",
        "  n=n//10\n",
        "print(sum)"
      ],
      "metadata": {
        "colab": {
          "base_uri": "https://localhost:8080/"
        },
        "id": "736eV87Ln-vj",
        "outputId": "16db798d-4f0f-4141-c661-d48533362ae1"
      },
      "execution_count": 3,
      "outputs": [
        {
          "output_type": "stream",
          "name": "stdout",
          "text": [
            "456\n",
            "15\n"
          ]
        }
      ]
    },
    {
      "cell_type": "code",
      "source": [
        "num=int(input())\n",
        "n=str(num)\n",
        "print(n[::-1])"
      ],
      "metadata": {
        "colab": {
          "base_uri": "https://localhost:8080/"
        },
        "id": "TErP1FuLoUmz",
        "outputId": "60dc0fe3-c1b2-40ec-e9a6-6d4e4171bc81"
      },
      "execution_count": 5,
      "outputs": [
        {
          "output_type": "stream",
          "name": "stdout",
          "text": [
            "123\n",
            "321\n"
          ]
        }
      ]
    },
    {
      "cell_type": "code",
      "source": [
        "n=int(input())\n",
        "sum=0\n",
        "while n>0:\n",
        "  digit=n%10\n",
        "  sum=sum*10+digit\n",
        "  n=n//10\n",
        "print(sum)"
      ],
      "metadata": {
        "colab": {
          "base_uri": "https://localhost:8080/"
        },
        "id": "c4pZWUmdok8x",
        "outputId": "4ed89234-848e-4aef-c11b-a7446b9f43bf"
      },
      "execution_count": 6,
      "outputs": [
        {
          "output_type": "stream",
          "name": "stdout",
          "text": [
            "123\n",
            "321\n"
          ]
        }
      ]
    },
    {
      "cell_type": "code",
      "source": [
        "a=int(input())\n",
        "b=int(input())\n",
        "if(a>b):\n",
        "  print(\"a is big\")\n",
        "else:\n",
        "  print(\"b is big\")"
      ],
      "metadata": {
        "colab": {
          "base_uri": "https://localhost:8080/"
        },
        "id": "0ZcAgSRlopWN",
        "outputId": "dbb402ca-fead-45da-98fa-9a5a784af345"
      },
      "execution_count": 7,
      "outputs": [
        {
          "output_type": "stream",
          "name": "stdout",
          "text": [
            "1\n",
            "9\n",
            "b is big\n"
          ]
        }
      ]
    }
  ]
}